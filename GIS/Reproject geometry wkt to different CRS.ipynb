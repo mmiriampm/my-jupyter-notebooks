{
 "cells": [
  {
   "cell_type": "markdown",
   "id": "43917754",
   "metadata": {},
   "source": [
    "# Spark Set-up"
   ]
  },
  {
   "cell_type": "code",
   "execution_count": null,
   "id": "a47d7c26",
   "metadata": {},
   "outputs": [],
   "source": [
    "from pyspark.sql import SQLContext\n",
    "from pyspark.sql import SparkSession\n",
    "import pyspark.sql.functions as f\n",
    "spark = SparkSession.builder.master(\"yarn\").appName(\"reprojection\")\n",
    "# SparkConf().set(\"spark.jars.packages\",\"org.apache.hadoop:hadoop-aws:3.0.0-alpha3\")\n",
    "sc = spark.getOrCreate()\n",
    "sqlContext = SQLContext(sc)"
   ]
  },
  {
   "cell_type": "markdown",
   "id": "fbc817e4",
   "metadata": {},
   "source": [
    "# Reprojection"
   ]
  },
  {
   "cell_type": "code",
   "execution_count": null,
   "id": "b5f9f791",
   "metadata": {},
   "outputs": [],
   "source": [
    "from pyspark.sql.types import *\n",
    "from pyproj import Proj, transform\n",
    "import shapely, pyproj\n",
    "import shapely.ops"
   ]
  },
  {
   "cell_type": "code",
   "execution_count": null,
   "id": "bf3cf2e4",
   "metadata": {},
   "outputs": [],
   "source": [
    "def update_wkt(wkt, input_epsg, output_epsg):\n",
    "    \"\"\"\n",
    "    Input: \n",
    "        - wkt as string of the polygon we want to reproject\n",
    "        - input_epsg of the polygon (i.e. 4326)\n",
    "        - output_epsg to which we want to reproject (i.e. 32632 in Italy)\n",
    "        \n",
    "    Output: string wkt reprojected\n",
    "    \"\"\"\n",
    "    P = shapely.wkt.loads(wkt)\n",
    "        \n",
    "    transformer = pyproj.Transformer.from_proj(pyproj.Proj('epsg:' + str(input_epsg)), \n",
    "                                               pyproj.Proj('epsg:' + str(output_epsg)), \n",
    "                                               always_xy=True)\n",
    "    # we set always_xy=True because the coordinates are swapped in the source, to keep them in that order\n",
    "    # (https://pyproj4.github.io/pyproj/stable/api/transformer.html)\n",
    "        \n",
    "\n",
    "    projected = shapely.ops.transform(transformer.transform, P)\n",
    "    return projected.wkt"
   ]
  },
  {
   "cell_type": "code",
   "execution_count": null,
   "id": "8b19da33",
   "metadata": {},
   "outputs": [],
   "source": [
    "# Define UDF to update wkt projection\n",
    "\n",
    "update_wkt_udf = f.udf(update_wkt, StringType())"
   ]
  },
  {
   "cell_type": "markdown",
   "id": "e6ad1372",
   "metadata": {},
   "source": [
    "### Example"
   ]
  },
  {
   "cell_type": "code",
   "execution_count": null,
   "id": "0b5a4b44",
   "metadata": {},
   "outputs": [],
   "source": [
    "# Example: Reproject polygons from 4324 to 32632\n",
    "\n",
    "pols = sqlContext.read.option('header', 'True')\\\n",
    "                .csv('gs://gcs_path_to_file.csv.gz')\n",
    "\n",
    "    # If it's a very big dataset we should add a .repartition(500) at the end (500 for example) to distribute \n",
    "    # the data along the workers\n",
    "    \n",
    "\n",
    "pols_projected = pols.withColumn('wkt', update_wkt_udf(f.col('wkt')), 4326, 32632)"
   ]
  }
 ],
 "metadata": {
  "kernelspec": {
   "display_name": "Python 3 (ipykernel)",
   "language": "python",
   "name": "python3"
  },
  "language_info": {
   "codemirror_mode": {
    "name": "ipython",
    "version": 3
   },
   "file_extension": ".py",
   "mimetype": "text/x-python",
   "name": "python",
   "nbconvert_exporter": "python",
   "pygments_lexer": "ipython3",
   "version": "3.9.7"
  }
 },
 "nbformat": 4,
 "nbformat_minor": 5
}
